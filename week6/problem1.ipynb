{
  "cells": [
    {
      "cell_type": "markdown",
      "metadata": {
        "id": "view-in-github",
        "colab_type": "text"
      },
      "source": [
        "<a href=\"https://colab.research.google.com/github/Gideon1712/CE880-Lab-coursework/blob/main/week6/problem1.ipynb\" target=\"_parent\"><img src=\"https://colab.research.google.com/assets/colab-badge.svg\" alt=\"Open In Colab\"/></a>"
      ]
    },
    {
      "cell_type": "markdown",
      "metadata": {
        "id": "tEMGZIfp6t2f"
      },
      "source": [
        "Before you turn this problem in, make sure everything runs as expected. First, **restart the kernel** (in the menubar, select Kernel$\\rightarrow$Restart) and then **run all cells** (in the menubar, select Cell$\\rightarrow$Run All).\n",
        "\n",
        "Make sure you fill in any place that says `YOUR CODE HERE` or \"YOUR ANSWER HERE\", as well as your name and collaborators below:"
      ]
    },
    {
      "cell_type": "code",
      "execution_count": null,
      "metadata": {
        "id": "sL1errJf6t2h"
      },
      "outputs": [],
      "source": [
        "NAME = \"Gideon Oketunji\"\n",
        "COLLABORATORS = \"2109294\""
      ]
    },
    {
      "cell_type": "markdown",
      "metadata": {
        "id": "T9XuiOmN6t2h"
      },
      "source": [
        "---"
      ]
    },
    {
      "cell_type": "markdown",
      "metadata": {
        "id": "gqrcEICv6t2i"
      },
      "source": [
        "---\n",
        "# Welcome to CE880\n",
        "### This is your week-6 : Problem notebook\n",
        "\n",
        "For this problem set, we'll be using the Jupyter notebook and please upload this notebook to [Google Colab](https://colab.research.google.com/)."
      ]
    },
    {
      "cell_type": "code",
      "execution_count": 1,
      "metadata": {
        "id": "7CjcueXV6t2i"
      },
      "outputs": [],
      "source": [
        "# install sklearn package if you are using local computer and if you are using Google Coalb then skip this step\n",
        "#!pip install -U scikit-learn\n",
        "import sys\n",
        "import warnings\n",
        "\n",
        "if not sys.warnoptions:\n",
        "    warnings.simplefilter(\"ignore\")"
      ]
    },
    {
      "cell_type": "markdown",
      "metadata": {
        "id": "ajV93RpQ6t2i"
      },
      "source": [
        "---\n",
        "## Question 1:\n",
        "\n",
        "#### Student’s t-test\n",
        "Tests whether the means of two independent samples are significantly different and return p-value. Please consider $\\alpha = 0.05$\n",
        "\n",
        "Assumptions\n",
        "\n",
        "* Observations in each sample are independent and identically distributed (iid).\n",
        "* Observations in each sample are normally distributed.\n",
        "* Observations in each sample have the same variance.\n",
        "\n",
        "Interpretation\n",
        "\n",
        "* H0: the means of the samples are equal.\n",
        "* H1: the means of the samples are unequal."
      ]
    },
    {
      "cell_type": "code",
      "execution_count": 4,
      "metadata": {
        "deletable": false,
        "nbgrader": {
          "cell_type": "code",
          "checksum": "dabe3be1af30db5c23ccf124213eb30e",
          "grade": false,
          "grade_id": "my_ttest_ans",
          "locked": false,
          "schema_version": 3,
          "solution": true,
          "task": false
        },
        "id": "JAO1B5Ak6t2i"
      },
      "outputs": [],
      "source": [
        "from scipy.stats import ttest_ind\n",
        "data1 = [0.873, 2.817, 0.121, -0.945, -0.055, -1.436, 0.360, -1.478, -1.637, -1.869]\n",
        "data2 = [1.142, -0.432, -0.938, -0.729, -0.846, -0.157, 0.500, 1.183, -1.075, -0.169]\n",
        "\n",
        "def my_ttest(data1, data2):\n",
        "    \"\"\"Write a code to tests whether the means of two independent samples are significantly\n",
        "    different and return p-value. Please consider 𝛼 = 0.05  \"\"\"\n",
        "    # YOUR CODE HERE\n",
        "\n",
        "    statistic, p_value = ttest_ind(data1,data2)\n",
        "    return p_value\n",
        "    raise NotImplementedError()"
      ]
    },
    {
      "cell_type": "code",
      "execution_count": 5,
      "metadata": {
        "deletable": false,
        "editable": false,
        "nbgrader": {
          "cell_type": "code",
          "checksum": "20a6d562ecffd1e2c44b4b4591e87937",
          "grade": true,
          "grade_id": "my_ttest_test",
          "locked": true,
          "points": 2,
          "schema_version": 3,
          "solution": false,
          "task": false
        },
        "id": "xOHsEOy86t2i"
      },
      "outputs": [],
      "source": [
        "# Check you solution by running this cell\n",
        "import math\n",
        "assert math.isclose(my_ttest(data1, data2), 0.748, rel_tol = 0.05)"
      ]
    },
    {
      "cell_type": "markdown",
      "metadata": {
        "id": "ymh0IiMI6t2j"
      },
      "source": [
        "---\n",
        "## Question 2:\n",
        "\n",
        "#### Paired Student’s t-test\n",
        "Tests whether the means of two paired samples are significantly different. Please consider $\\alpha = 0.05$\n",
        "\n",
        "Assumptions\n",
        "\n",
        "* Observations in each sample are independent and identically distributed (iid).\n",
        "* Observations in each sample are normally distributed.\n",
        "* Observations in each sample have the same variance.\n",
        "* Observations across each sample are paired.\n",
        "\n",
        "Interpretation\n",
        "\n",
        "* H0: the means of the samples are equal.\n",
        "* H1: the means of the samples are unequal."
      ]
    },
    {
      "cell_type": "code",
      "execution_count": 6,
      "metadata": {
        "deletable": false,
        "nbgrader": {
          "cell_type": "code",
          "checksum": "8250fb8556f0348ee2fe92fd9d303345",
          "grade": false,
          "grade_id": "my_pairedttest_ans",
          "locked": false,
          "schema_version": 3,
          "solution": true,
          "task": false
        },
        "id": "VRHl8vVQ6t2j"
      },
      "outputs": [],
      "source": [
        "# Example of the Paired Student's t-test\n",
        "from scipy.stats import ttest_rel\n",
        "data1 = [0.873, 2.817, 0.121, -0.945, -0.055, -1.436, 0.360, -1.478, -1.637, -1.869]\n",
        "data2 = [1.142, -0.432, -0.938, -0.729, -0.846, -0.157, 0.500, 1.183, -1.075, -0.169]\n",
        "\n",
        "\n",
        "def my_pairedttest(data1, data2):\n",
        "    \"\"\"Write code to tests whether the means of two paired samples are\n",
        "    significantly different. Please consider 𝛼=0.05 \"\"\"\n",
        "    # YOUR CODE HERE\n",
        "    statistic, p_value = ttest_rel(data1,data2)\n",
        "    return p_value\n",
        "    raise NotImplementedError()"
      ]
    },
    {
      "cell_type": "code",
      "execution_count": 7,
      "metadata": {
        "deletable": false,
        "editable": false,
        "nbgrader": {
          "cell_type": "code",
          "checksum": "e142d479c640e86cdaf7b6f6aa2d5ef7",
          "grade": true,
          "grade_id": "my_pairedttest_test",
          "locked": true,
          "points": 2,
          "schema_version": 3,
          "solution": false,
          "task": false
        },
        "id": "OT_IAm-36t2j"
      },
      "outputs": [],
      "source": [
        "# Check you solution by running this cell\n",
        "import math\n",
        "assert math.isclose(my_pairedttest(data1, data2), 0.746, rel_tol = 0.05)"
      ]
    },
    {
      "cell_type": "markdown",
      "metadata": {
        "id": "8lqCldZH6t2j"
      },
      "source": [
        "---\n",
        "## Question 3:\n",
        "\n",
        "#### Shapiro-Wilk Test\n",
        "Tests whether a data sample has a Gaussian distribution.\n",
        "\n",
        "Assumptions\n",
        "\n",
        "* Observations in each sample are independent and identically distributed (iid).\n",
        "\n",
        "Interpretation\n",
        "\n",
        "* H0: the sample has a Gaussian distribution.\n",
        "* H1: the sample does not have a Gaussian distribution."
      ]
    },
    {
      "cell_type": "code",
      "execution_count": null,
      "metadata": {
        "deletable": false,
        "nbgrader": {
          "cell_type": "code",
          "checksum": "46e413b53628a4d7763ce8b467327a5c",
          "grade": false,
          "grade_id": "my_normalityttest_ans",
          "locked": false,
          "schema_version": 3,
          "solution": true,
          "task": false
        },
        "id": "H4ZgK1_g6t2j"
      },
      "outputs": [],
      "source": [
        "from scipy.stats import shapiro\n",
        "data = [0.873, 2.817, 0.121, -0.945, -0.055, -1.436, 0.360, -1.478, -1.637, -1.869]\n",
        "\n",
        "def my_normalityttest(data):\n",
        "    \"\"\"Write code to to check the normality of the data. In other words,\n",
        "    you are checking if the data is normally distributed and return p value.\n",
        "    Hint: Please see what is shapiro test and how you can use it\n",
        "    https://docs.scipy.org/doc/scipy/reference/generated/scipy.stats.shapiro.html\"\"\"\n",
        "    # YOUR CODE HERE\n",
        "\n",
        "    raise NotImplementedError()\n",
        "\n",
        "my_normalityttest(data)"
      ]
    },
    {
      "cell_type": "code",
      "execution_count": null,
      "metadata": {
        "deletable": false,
        "editable": false,
        "nbgrader": {
          "cell_type": "code",
          "checksum": "ddf4ce4217df5678cc4c38ffb9623a47",
          "grade": true,
          "grade_id": "my_normalityttest_test",
          "locked": true,
          "points": 2,
          "schema_version": 3,
          "solution": false,
          "task": false
        },
        "id": "aEJ73sBd6t2k"
      },
      "outputs": [],
      "source": [
        "# Check you solution by running this cell\n",
        "import math\n",
        "assert math.isclose(my_normalityttest(data), 0.193, rel_tol = 0.05)"
      ]
    },
    {
      "cell_type": "code",
      "execution_count": null,
      "metadata": {
        "id": "4GcWQ3Kp6t2k"
      },
      "outputs": [],
      "source": []
    }
  ],
  "metadata": {
    "kernelspec": {
      "display_name": "Python 3",
      "language": "python",
      "name": "python3"
    },
    "language_info": {
      "codemirror_mode": {
        "name": "ipython",
        "version": 3
      },
      "file_extension": ".py",
      "mimetype": "text/x-python",
      "name": "python",
      "nbconvert_exporter": "python",
      "pygments_lexer": "ipython3",
      "version": "3.7.11"
    },
    "colab": {
      "provenance": [],
      "include_colab_link": true
    }
  },
  "nbformat": 4,
  "nbformat_minor": 0
}