{
  "cells": [
    {
      "cell_type": "markdown",
      "metadata": {
        "id": "view-in-github",
        "colab_type": "text"
      },
      "source": [
        "<a href=\"https://colab.research.google.com/github/Gideon1712/CE880-Lab-coursework/blob/main/week9/problem1.ipynb\" target=\"_parent\"><img src=\"https://colab.research.google.com/assets/colab-badge.svg\" alt=\"Open In Colab\"/></a>"
      ]
    },
    {
      "cell_type": "markdown",
      "metadata": {
        "id": "MMsq9vyzOgsq"
      },
      "source": [
        "Before you turn this problem in, make sure everything runs as expected. First, **restart the kernel** (in the menubar, select Kernel$\\rightarrow$Restart) and then **run all cells** (in the menubar, select Cell$\\rightarrow$Run All).\n",
        "\n",
        "Make sure you fill in any place that says `YOUR CODE HERE` or \"YOUR ANSWER HERE\", as well as your name and collaborators below:"
      ]
    },
    {
      "cell_type": "code",
      "execution_count": null,
      "metadata": {
        "id": "Q-QzUextOgsw"
      },
      "outputs": [],
      "source": [
        "NAME = \"Gideon Oketunji\"\n",
        "COLLABORATORS = \"2109294\""
      ]
    },
    {
      "cell_type": "markdown",
      "metadata": {
        "id": "2JRTBDdSOgsx"
      },
      "source": [
        "---"
      ]
    },
    {
      "cell_type": "markdown",
      "metadata": {
        "id": "y9916x77Ogsx"
      },
      "source": [
        "---\n",
        "# Welcome to CE880\n",
        "### This is your week-10 : Problem notebook\n",
        "\n",
        "For this problem set, we'll be using the Jupyter notebook and please upload this notebook to [Google Colab](https://colab.research.google.com/).\n",
        "\n"
      ]
    },
    {
      "cell_type": "code",
      "execution_count": null,
      "metadata": {
        "id": "bfs9kAp2Ogsy"
      },
      "outputs": [],
      "source": [
        "import numpy as np\n",
        "from sklearn import datasets, linear_model\n",
        "from sklearn.metrics import mean_squared_error, r2_score\n",
        "\n",
        "# Load the diabetes dataset\n",
        "diabetes_X, diabetes_y = datasets.load_diabetes(return_X_y=True)\n",
        "\n",
        "# Use only one feature\n",
        "diabetes_X = diabetes_X[:, np.newaxis, 2]\n",
        "\n",
        "# Split the data into training/testing sets\n",
        "diabetes_X_train = diabetes_X[:-20]\n",
        "diabetes_X_test = diabetes_X[-20:]\n",
        "\n",
        "# Split the targets into training/testing sets\n",
        "diabetes_y_train = diabetes_y[:-20]\n",
        "diabetes_y_test = diabetes_y[-20:]"
      ]
    },
    {
      "cell_type": "markdown",
      "metadata": {
        "id": "TGmp5VwwOgsy"
      },
      "source": [
        "---\n",
        "## Question 1:\n",
        "\n",
        "#### Regression\n",
        "Use the diabetes dataset from sklearn, which I have spilted into training and test sets (diabetes_X_train, diabetes_y_train,diabetes_X_test,diabetes_y_test), please train the linear regression model to get the test accuracy and return `mean squared error`.  \n",
        "\n",
        "This question is of `5` marks.  "
      ]
    },
    {
      "cell_type": "code",
      "execution_count": null,
      "metadata": {
        "deletable": false,
        "nbgrader": {
          "cell_type": "code",
          "checksum": "737357d287ff1639f3a56d7e1bfbcd6e",
          "grade": false,
          "grade_id": "my_reg_model_mse_ans",
          "locked": false,
          "schema_version": 3,
          "solution": true,
          "task": false
        },
        "id": "T-SzLDTJOgsy"
      },
      "outputs": [],
      "source": [
        "from sklearn.metrics import mean_squared_error\n",
        "from sklearn.linear_model import LinearRegression\n",
        "def my_reg_model_mse(diabetes_X_train, diabetes_y_train,diabetes_X_test,diabetes_y_test):\n",
        "    \"\"\"Write a function to train a machine learning model to get the `mean_squared_error` on diabetes_X_test.\n",
        "    Please use LinearRegression model to train a regressor. \"\"\"\n",
        "    # YOUR CODE HERE\n",
        "    pred_model = LinearRegression()\n",
        "    pred_model.fit(diabetes_X_train, diabetes_y_train)\n",
        "    y_pred = pred_model.predict(diabetes_X_test)\n",
        "    error=mean_squared_error(diabetes_y_test,y_pred)\n",
        "    print(error)\n",
        "    return error\n",
        "    raise NotImplementedError()"
      ]
    },
    {
      "cell_type": "code",
      "execution_count": null,
      "metadata": {
        "deletable": false,
        "editable": false,
        "nbgrader": {
          "cell_type": "code",
          "checksum": "3d93addc4a2ceb6b59c077612b1069f8",
          "grade": true,
          "grade_id": "my_reg_model_mse_test",
          "locked": true,
          "points": 5,
          "schema_version": 3,
          "solution": false,
          "task": false
        },
        "colab": {
          "base_uri": "https://localhost:8080/"
        },
        "id": "kD6zaV9AOgsz",
        "outputId": "94a588da-4f93-4d83-98d3-ccc4c2f3fb3a"
      },
      "outputs": [
        {
          "output_type": "stream",
          "name": "stdout",
          "text": [
            "2548.07239872597\n"
          ]
        }
      ],
      "source": [
        "# Check you solution by running this cell\n",
        "import math\n",
        "assert math.isclose(my_reg_model_mse(diabetes_X_train, diabetes_y_train,diabetes_X_test,diabetes_y_test),\n",
        "                    2548.07, rel_tol = 0.05)"
      ]
    },
    {
      "cell_type": "markdown",
      "metadata": {
        "id": "VzrnPiJaOgsz"
      },
      "source": [
        "---\n",
        "## Question 2:\n",
        "\n",
        "#### Regression\n",
        "Use the diabetes dataset from sklearn, which I have spilted into training and test sets (diabetes_X_train, diabetes_y_train,diabetes_X_test,diabetes_y_test), please train the linear regression model to get the test accuracy and return `r2` (r sqaured value).  \n",
        "\n",
        "This question is of `4` marks."
      ]
    },
    {
      "cell_type": "code",
      "execution_count": null,
      "metadata": {
        "deletable": false,
        "nbgrader": {
          "cell_type": "code",
          "checksum": "b72d896b193dc8f21adedfc9f46e0249",
          "grade": false,
          "grade_id": "my_reg_model_r2_ans",
          "locked": false,
          "schema_version": 3,
          "solution": true,
          "task": false
        },
        "id": "z7k2o58JOgs0"
      },
      "outputs": [],
      "source": [
        "def my_reg_model_r2(diabetes_X_train, diabetes_y_train,diabetes_X_test,diabetes_y_test):\n",
        "    \"\"\"Write a function to train a machine learning model to get the `r2_score` on diabetes_X_test data .\n",
        "    Please use LinearRegression model to train a regressor. \"\"\"\n",
        "    # YOUR CODE HERE\n",
        "    pred_model = LinearRegression()\n",
        "    pred_model.fit(diabetes_X_train, diabetes_y_train)\n",
        "    y_pred = pred_model.predict(diabetes_X_test)\n",
        "    error=r2_score(diabetes_y_test,y_pred)\n",
        "    return error\n",
        "    raise NotImplementedError()"
      ]
    },
    {
      "cell_type": "code",
      "execution_count": null,
      "metadata": {
        "deletable": false,
        "editable": false,
        "nbgrader": {
          "cell_type": "code",
          "checksum": "b6b783cd697c3b6fd212fb7c6e337e4c",
          "grade": true,
          "grade_id": "my_reg_model_r2_test",
          "locked": true,
          "points": 4,
          "schema_version": 3,
          "solution": false,
          "task": false
        },
        "id": "hXKf6F1IOgs0"
      },
      "outputs": [],
      "source": [
        "# Check you solution by running this cell\n",
        "import math\n",
        "assert math.isclose(my_reg_model_r2(diabetes_X_train, diabetes_y_train,diabetes_X_test,\n",
        "                                    diabetes_y_test), 0.472575, rel_tol = 0.05)"
      ]
    },
    {
      "cell_type": "code",
      "execution_count": null,
      "metadata": {
        "id": "gMlkoOZWOgs0"
      },
      "outputs": [],
      "source": []
    }
  ],
  "metadata": {
    "kernelspec": {
      "display_name": "Python 3",
      "language": "python",
      "name": "python3"
    },
    "language_info": {
      "codemirror_mode": {
        "name": "ipython",
        "version": 3
      },
      "file_extension": ".py",
      "mimetype": "text/x-python",
      "name": "python",
      "nbconvert_exporter": "python",
      "pygments_lexer": "ipython3",
      "version": "3.7.11"
    },
    "colab": {
      "provenance": [],
      "include_colab_link": true
    }
  },
  "nbformat": 4,
  "nbformat_minor": 0
}